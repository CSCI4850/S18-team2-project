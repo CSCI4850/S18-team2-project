{
 "cells": [
  {
   "cell_type": "markdown",
   "metadata": {},
   "source": [
    "# Milestones"
   ]
  },
  {
   "cell_type": "markdown",
   "metadata": {},
   "source": [
    "## Members: Bishoy Boktor, Yonathan Feleke, Ryan Florida, Kyle Lutz, Joel Norris, Karla Robles"
   ]
  },
  {
   "cell_type": "markdown",
   "metadata": {},
   "source": [
    "## Milestone 1"
   ]
  },
  {
   "cell_type": "markdown",
   "metadata": {},
   "source": [
    "|__Deliverable__ | __Percent Complete__ | __Estimated Completion Data__ | __Percent Complete by Next Milestone__|\n",
    "|----------------|----------------------|-------------------------------|---------------------------------------|\n",
    "|Code |50% | April 15, 2018 | 75%|\n",
    "|Paper |0% | April 20, 2018 |15%|\n",
    "|Demo |0%| April 20, 2018 |~5%|\n",
    "|Presentation |0%| April 20, 2018 |~5%|"
   ]
  },
  {
   "cell_type": "markdown",
   "metadata": {},
   "source": [
    "1. ___What deliverable goals established in the last milestone report were accomplished to the anticipated percentage?___\n",
    "This is the first milestone, therefore there were no deliverable goals established prior to this. However, we have already established some working code for a proof of concept. We are also actively working on the sentiment analysis scripts and have decided to go ahead and incorporate some nice visual feedback (in terms of graphs and the like).\n",
    "\n",
    "2. ___What deliverable goals established in the last milestone report were were not accomplished to the anticipated percentage?___ We do not currently have any previous goals to fall short of.\n",
    "3. ___What are the main deliverable goals to meet before the next milestone report, and who is working on them?___\n",
    "The main deliverable goal is the code, for now. The paper could also be considered a \"main\" deliverable goal for the next milestone.\n",
    "    * Bishoy will continue working on and refining the RNN code he has provided as well as comparing the results of measuring multple time steps from his RNN.\n",
    "    * Yonathan will begin work on the CNN for comparison.\n",
    "    * Ryan will be collaborating with Bishoy on the RNN and with Yonathan on the CNN as well as preparing the visual feedback for our results and comparisons (this will be going toward the presentation).\n",
    "    * Kyle will begin work on the paper and what can be done toward the completion of the presentation.\n",
    "    * Joel will be collaborating with Kyle on the paper and will also doing what can be done toward the demo.\n",
    "    * Karla is working on the scripts for our sentiment analysis."
   ]
  },
  {
   "cell_type": "markdown",
   "metadata": {},
   "source": [
    "## Milestone 2"
   ]
  },
  {
   "cell_type": "markdown",
   "metadata": {},
   "source": [
    "|__Deliverable__ | __Percent Complete__ | __Estimated Completion Data__ | __Percent Complete by Next Milestone__|\n",
    "|----------------|----------------------|-------------------------------|---------------------------------------|\n",
    "|Code |55% | April 15, 2018 | 95%|\n",
    "|Paper |5% | April 20, 2018 |33%|\n",
    "|Demo |0%| April 20, 2018 |~15%|\n",
    "|Presentation |0%| April 20, 2018 |~15%|"
   ]
  },
  {
   "cell_type": "markdown",
   "metadata": {},
   "source": [
    "1. ___What deliverable goals established in the last milestone report were accomplished to the anticipated percentage?___\n",
    "We've not accomplished any of the goals that were set for this milestone but have made some progress.\n",
    "2. ___What deliverable goals established in the last milestone report were were not accomplished to the anticipated percentage?___\n",
    "All goals set in the last milestones have not been accomplished to the anticipated percentage. We're working on getting caught up over the weekend.\n",
    "3. ___What are the main deliverable goals to meet before the next milestone report, and who is working on them?___\n",
    "The main deliverable goal is getting the code finished. The paper and Presentation are next in line on the priority list for the next milestone.\n",
    "    * Bishoy will continue on refining the RNN code he has provided.\n",
    "    * Yonathan will continue to work on the CNN for comparison.\n",
    "    * Ryan will continue to work on the paper and when the RNN and CNN are ready he and Karla will prepare the visual feedback for our results and comparisons (this will be going toward the presentation).\n",
    "    * Kyle will begin to work on the presentation and will also work on ideas for the demo.\n",
    "    * Joel will be collaborating with Kyle on the presentation and demo.\n",
    "    * Karla will continue working on the scripts for our sentiment analysis."
   ]
  },
  {
   "cell_type": "code",
   "execution_count": null,
   "metadata": {},
   "outputs": [],
   "source": []
  }
 ],
 "metadata": {
  "kernelspec": {
   "display_name": "Python 3",
   "language": "python",
   "name": "python3"
  },
  "language_info": {
   "codemirror_mode": {
    "name": "ipython",
    "version": 3
   },
   "file_extension": ".py",
   "mimetype": "text/x-python",
   "name": "python",
   "nbconvert_exporter": "python",
   "pygments_lexer": "ipython3",
   "version": "3.5.3"
  }
 },
 "nbformat": 4,
 "nbformat_minor": 2
}
